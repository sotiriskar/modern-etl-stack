{
 "cells": [
  {
   "cell_type": "code",
   "execution_count": 2,
   "metadata": {},
   "outputs": [
    {
     "name": "stdout",
     "output_type": "stream",
     "text": [
      "Data inserted successfully\n"
     ]
    }
   ],
   "source": [
    "from sqlalchemy import create_engine\n",
    "import pandas as pd\n",
    "from random import randint, choice\n",
    "import time\n",
    "import uuid\n",
    "import json\n",
    "\n",
    "\n",
    "rows = []\n",
    "for _ in range(1):  # Assuming you're creating one row for demonstration\n",
    "    events = [\n",
    "        {\"event_type\": \"login\", \"timestamp\": time.time()},\n",
    "        {\"event_type\": \"view_item\", \"timestamp\": time.time() + randint(1, 600)},\n",
    "        {\"event_type\": \"add_to_cart\", \"timestamp\": time.time() + randint(600, 1200)},\n",
    "        {\"event_type\": \"checkout\", \"timestamp\": time.time() + randint(1200, 1800)},\n",
    "    ]\n",
    "    row = {\n",
    "        \"user_id\": str(uuid.uuid4()),\n",
    "        \"device_id\": str(uuid.uuid4()),\n",
    "        \"timestamp\": time.time(),\n",
    "        \"session_duration\": randint(1, 600),\n",
    "        \"clicks\": randint(1, 100),\n",
    "        \"views\": randint(1, 100),\n",
    "        \"location_info\": {\n",
    "            \"country\": choice([\"USA\", \"Canada\", \"Germany\", \"France\", \"Japan\"]),\n",
    "            \"city\": choice([\"New York\", \"Toronto\", \"Berlin\", \"Paris\", \"Tokyo\"]),\n",
    "            \"latitude\": round(34.0522 + randint(-100, 100) / 1000.0, 4),\n",
    "            \"longitude\": round(-118.2437 + randint(-100, 100) / 1000.0, 4),\n",
    "        },\n",
    "        \"device_type\": choice([\"smartphone\", \"tablet\", \"desktop\", \"laptop\"]),\n",
    "        \"operating_system\": choice([\"iOS\", \"Android\", \"Windows\", \"macOS\", \"Linux\"]),\n",
    "        \"app_version\": f\"{randint(1,5)}.{randint(0,9)}.{randint(0,9)}\",\n",
    "        \"events\": json.dumps(events)  # Serialize the events list to a JSON string\n",
    "    }\n",
    "    rows.append(row)\n",
    "\n",
    "# Create DataFrame\n",
    "df = pd.DataFrame(rows)\n",
    "\n",
    "host = \"localhost\"\n",
    "database = \"postgres\"\n",
    "username = \"postgres\"\n",
    "password = \"password\"\n",
    "port = \"5432\"\n",
    "\n",
    "# Create a connection to the database\n",
    "engine = create_engine(\n",
    "    f'postgresql://{username}:{password}@{host}:{port}/{database}'\n",
    ")\n",
    "\n",
    "# convert location_info to string\n",
    "df['location_info'] = df['location_info'].apply(str)\n",
    "\n",
    "# # Insert into PostgreSQL with pandas\n",
    "df.to_sql('user_sessions', engine, if_exists='append', index=False, schema='analytics', method='multi')\n",
    "print(\"Data inserted successfully\")"
   ]
  },
  {
   "cell_type": "code",
   "execution_count": 4,
   "metadata": {},
   "outputs": [
    {
     "data": {
      "text/html": [
       "<div>\n",
       "<style scoped>\n",
       "    .dataframe tbody tr th:only-of-type {\n",
       "        vertical-align: middle;\n",
       "    }\n",
       "\n",
       "    .dataframe tbody tr th {\n",
       "        vertical-align: top;\n",
       "    }\n",
       "\n",
       "    .dataframe thead th {\n",
       "        text-align: right;\n",
       "    }\n",
       "</style>\n",
       "<table border=\"1\" class=\"dataframe\">\n",
       "  <thead>\n",
       "    <tr style=\"text-align: right;\">\n",
       "      <th></th>\n",
       "      <th>user_id</th>\n",
       "      <th>device_id</th>\n",
       "      <th>timestamp</th>\n",
       "      <th>session_duration</th>\n",
       "      <th>clicks</th>\n",
       "      <th>views</th>\n",
       "      <th>location_info</th>\n",
       "      <th>device_type</th>\n",
       "      <th>operating_system</th>\n",
       "      <th>app_version</th>\n",
       "      <th>events</th>\n",
       "    </tr>\n",
       "  </thead>\n",
       "  <tbody>\n",
       "    <tr>\n",
       "      <th>0</th>\n",
       "      <td>d2ba1d59-4ceb-48fe-9040-3e40458229be</td>\n",
       "      <td>c143f8f3-7c78-4df2-aa7f-6ec3c951963c</td>\n",
       "      <td>1.720385e+09</td>\n",
       "      <td>318</td>\n",
       "      <td>40</td>\n",
       "      <td>17</td>\n",
       "      <td>{'city': 'New York', 'country': 'USA', 'latitu...</td>\n",
       "      <td>smartphone</td>\n",
       "      <td>macOS</td>\n",
       "      <td>5.7.0</td>\n",
       "      <td>[{'event_type': 'login', 'timestamp': 17203850...</td>\n",
       "    </tr>\n",
       "  </tbody>\n",
       "</table>\n",
       "</div>"
      ],
      "text/plain": [
       "                                user_id                             device_id  \\\n",
       "0  d2ba1d59-4ceb-48fe-9040-3e40458229be  c143f8f3-7c78-4df2-aa7f-6ec3c951963c   \n",
       "\n",
       "      timestamp  session_duration  clicks  views  \\\n",
       "0  1.720385e+09               318      40     17   \n",
       "\n",
       "                                       location_info device_type  \\\n",
       "0  {'city': 'New York', 'country': 'USA', 'latitu...  smartphone   \n",
       "\n",
       "  operating_system app_version  \\\n",
       "0            macOS       5.7.0   \n",
       "\n",
       "                                              events  \n",
       "0  [{'event_type': 'login', 'timestamp': 17203850...  "
      ]
     },
     "execution_count": 4,
     "metadata": {},
     "output_type": "execute_result"
    }
   ],
   "source": [
    "from minio import Minio\n",
    "\n",
    "MINIO_ENDPOINT = 'localhost:9000'\n",
    "MINIO_ACCESS_KEY = 'admin'\n",
    "MINIO_SECRET_KEY = 'password'\n",
    "\n",
    "minioClient = Minio(MINIO_ENDPOINT,\n",
    "                            access_key=MINIO_ACCESS_KEY,\n",
    "                            secret_key=MINIO_SECRET_KEY,\n",
    "                            secure=False)\n",
    "\n",
    "# get data from analytics-raw bucket\n",
    "objects = minioClient.list_objects('analytics-raw-data', recursive=True)\n",
    "\n",
    "import boto3\n",
    "import io\n",
    "import pandas as pd\n",
    "\n",
    "# # Read the parquet file\n",
    "# buffer = io.BytesIO()\n",
    "# s3 = boto3.resource('s3')\n",
    "# object = s3.Object('my-bucket-name','path/to/parquet/file')\n",
    "# object.download_fileobj(buffer)\n",
    "# df = pd.read_parquet(buffer)\n",
    "\n",
    "# print(df.head())\n",
    "\n",
    "df = pd.DataFrame()\n",
    "for obj in objects:\n",
    "    # get data from file\n",
    "    data = minioClient.get_object('analytics-raw-data', obj.object_name)\n",
    "\n",
    "    data = io.BytesIO(data.read())\n",
    "    data = pd.read_parquet(data)\n",
    "    df = pd.concat([df, data])\n",
    "\n",
    "df.head()"
   ]
  },
  {
   "cell_type": "code",
   "execution_count": null,
   "metadata": {},
   "outputs": [],
   "source": []
  },
  {
   "cell_type": "code",
   "execution_count": 38,
   "metadata": {},
   "outputs": [
    {
     "name": "stdout",
     "output_type": "stream",
     "text": [
      "{'analytics_raw_data', 'sample'}\n"
     ]
    }
   ],
   "source": [
    "import kafka \n",
    "from kafka.admin import KafkaAdminClient, NewTopic\n",
    "\n",
    "\n",
    "consumer = kafka.KafkaConsumer(group_id='dev', bootstrap_servers='localhost:9092')\n",
    "print(consumer.topics())\n",
    "# print(consumer.partitions_for_topic('test'))\n",
    "\n"
   ]
  },
  {
   "cell_type": "code",
   "execution_count": 41,
   "metadata": {},
   "outputs": [
    {
     "ename": "NodeNotReadyError",
     "evalue": "NodeNotReadyError",
     "output_type": "error",
     "traceback": [
      "\u001b[0;31m---------------------------------------------------------------------------\u001b[0m",
      "\u001b[0;31mNodeNotReadyError\u001b[0m                         Traceback (most recent call last)",
      "Cell \u001b[0;32mIn[41], line 8\u001b[0m\n\u001b[1;32m      1\u001b[0m \u001b[38;5;28;01mfrom\u001b[39;00m \u001b[38;5;21;01mkafka\u001b[39;00m \u001b[38;5;28;01mimport\u001b[39;00m KafkaAdminClient\n\u001b[1;32m      3\u001b[0m kafka_admin_client_config \u001b[38;5;241m=\u001b[39m {\n\u001b[1;32m      4\u001b[0m     \u001b[38;5;124m\"\u001b[39m\u001b[38;5;124mbootstrap_servers\u001b[39m\u001b[38;5;124m\"\u001b[39m: \u001b[38;5;124m\"\u001b[39m\u001b[38;5;124mlocalhost:9092\u001b[39m\u001b[38;5;124m\"\u001b[39m,\n\u001b[1;32m      5\u001b[0m     \u001b[38;5;124m\"\u001b[39m\u001b[38;5;124mclient_id\u001b[39m\u001b[38;5;124m\"\u001b[39m: \u001b[38;5;124m\"\u001b[39m\u001b[38;5;124mdev\u001b[39m\u001b[38;5;124m\"\u001b[39m,\n\u001b[1;32m      6\u001b[0m }\n\u001b[0;32m----> 8\u001b[0m admin \u001b[38;5;241m=\u001b[39m \u001b[43mKafkaAdminClient\u001b[49m\u001b[43m(\u001b[49m\u001b[38;5;241;43m*\u001b[39;49m\u001b[38;5;241;43m*\u001b[39;49m\u001b[43mkafka_admin_client_config\u001b[49m\u001b[43m)\u001b[49m\n\u001b[1;32m      9\u001b[0m kafka_topics \u001b[38;5;241m=\u001b[39m admin\u001b[38;5;241m.\u001b[39m_client\u001b[38;5;241m.\u001b[39mcluster\u001b[38;5;241m.\u001b[39mtopics()\n",
      "File \u001b[0;32m/opt/homebrew/lib/python3.10/site-packages/kafka/admin/client.py:218\u001b[0m, in \u001b[0;36mKafkaAdminClient.__init__\u001b[0;34m(self, **configs)\u001b[0m\n\u001b[1;32m    215\u001b[0m     \u001b[38;5;28mself\u001b[39m\u001b[38;5;241m.\u001b[39mconfig[\u001b[38;5;124m'\u001b[39m\u001b[38;5;124mapi_version\u001b[39m\u001b[38;5;124m'\u001b[39m] \u001b[38;5;241m=\u001b[39m \u001b[38;5;28mself\u001b[39m\u001b[38;5;241m.\u001b[39m_client\u001b[38;5;241m.\u001b[39mconfig[\u001b[38;5;124m'\u001b[39m\u001b[38;5;124mapi_version\u001b[39m\u001b[38;5;124m'\u001b[39m]\n\u001b[1;32m    217\u001b[0m \u001b[38;5;28mself\u001b[39m\u001b[38;5;241m.\u001b[39m_closed \u001b[38;5;241m=\u001b[39m \u001b[38;5;28;01mFalse\u001b[39;00m\n\u001b[0;32m--> 218\u001b[0m \u001b[38;5;28;43mself\u001b[39;49m\u001b[38;5;241;43m.\u001b[39;49m\u001b[43m_refresh_controller_id\u001b[49m\u001b[43m(\u001b[49m\u001b[43m)\u001b[49m\n\u001b[1;32m    219\u001b[0m log\u001b[38;5;241m.\u001b[39mdebug(\u001b[38;5;124m\"\u001b[39m\u001b[38;5;124mKafkaAdminClient started.\u001b[39m\u001b[38;5;124m\"\u001b[39m)\n",
      "File \u001b[0;32m/opt/homebrew/lib/python3.10/site-packages/kafka/admin/client.py:278\u001b[0m, in \u001b[0;36mKafkaAdminClient._refresh_controller_id\u001b[0;34m(self)\u001b[0m\n\u001b[1;32m    276\u001b[0m controller_id \u001b[38;5;241m=\u001b[39m response\u001b[38;5;241m.\u001b[39mcontroller_id\n\u001b[1;32m    277\u001b[0m \u001b[38;5;66;03m# verify the controller is new enough to support our requests\u001b[39;00m\n\u001b[0;32m--> 278\u001b[0m controller_version \u001b[38;5;241m=\u001b[39m \u001b[38;5;28;43mself\u001b[39;49m\u001b[38;5;241;43m.\u001b[39;49m\u001b[43m_client\u001b[49m\u001b[38;5;241;43m.\u001b[39;49m\u001b[43mcheck_version\u001b[49m\u001b[43m(\u001b[49m\u001b[43mcontroller_id\u001b[49m\u001b[43m,\u001b[49m\u001b[43m \u001b[49m\u001b[43mtimeout\u001b[49m\u001b[38;5;241;43m=\u001b[39;49m\u001b[43m(\u001b[49m\u001b[38;5;28;43mself\u001b[39;49m\u001b[38;5;241;43m.\u001b[39;49m\u001b[43mconfig\u001b[49m\u001b[43m[\u001b[49m\u001b[38;5;124;43m'\u001b[39;49m\u001b[38;5;124;43mapi_version_auto_timeout_ms\u001b[39;49m\u001b[38;5;124;43m'\u001b[39;49m\u001b[43m]\u001b[49m\u001b[43m \u001b[49m\u001b[38;5;241;43m/\u001b[39;49m\u001b[43m \u001b[49m\u001b[38;5;241;43m1000\u001b[39;49m\u001b[43m)\u001b[49m\u001b[43m)\u001b[49m\n\u001b[1;32m    279\u001b[0m \u001b[38;5;28;01mif\u001b[39;00m controller_version \u001b[38;5;241m<\u001b[39m (\u001b[38;5;241m0\u001b[39m, \u001b[38;5;241m10\u001b[39m, \u001b[38;5;241m0\u001b[39m):\n\u001b[1;32m    280\u001b[0m     \u001b[38;5;28;01mraise\u001b[39;00m IncompatibleBrokerVersion(\n\u001b[1;32m    281\u001b[0m         \u001b[38;5;124m\"\u001b[39m\u001b[38;5;124mThe controller appears to be running Kafka \u001b[39m\u001b[38;5;132;01m{}\u001b[39;00m\u001b[38;5;124m. KafkaAdminClient requires brokers >= 0.10.0.0.\u001b[39m\u001b[38;5;124m\"\u001b[39m\n\u001b[1;32m    282\u001b[0m         \u001b[38;5;241m.\u001b[39mformat(controller_version))\n",
      "File \u001b[0;32m/opt/homebrew/lib/python3.10/site-packages/kafka/client_async.py:909\u001b[0m, in \u001b[0;36mKafkaClient.check_version\u001b[0;34m(self, node_id, timeout, strict)\u001b[0m\n\u001b[1;32m    907\u001b[0m \u001b[38;5;28;01mtry\u001b[39;00m:\n\u001b[1;32m    908\u001b[0m     remaining \u001b[38;5;241m=\u001b[39m end \u001b[38;5;241m-\u001b[39m time\u001b[38;5;241m.\u001b[39mtime()\n\u001b[0;32m--> 909\u001b[0m     version \u001b[38;5;241m=\u001b[39m \u001b[43mconn\u001b[49m\u001b[38;5;241;43m.\u001b[39;49m\u001b[43mcheck_version\u001b[49m\u001b[43m(\u001b[49m\u001b[43mtimeout\u001b[49m\u001b[38;5;241;43m=\u001b[39;49m\u001b[43mremaining\u001b[49m\u001b[43m,\u001b[49m\u001b[43m \u001b[49m\u001b[43mstrict\u001b[49m\u001b[38;5;241;43m=\u001b[39;49m\u001b[43mstrict\u001b[49m\u001b[43m,\u001b[49m\u001b[43m \u001b[49m\u001b[43mtopics\u001b[49m\u001b[38;5;241;43m=\u001b[39;49m\u001b[38;5;28;43mlist\u001b[39;49m\u001b[43m(\u001b[49m\u001b[38;5;28;43mself\u001b[39;49m\u001b[38;5;241;43m.\u001b[39;49m\u001b[43mconfig\u001b[49m\u001b[43m[\u001b[49m\u001b[38;5;124;43m'\u001b[39;49m\u001b[38;5;124;43mbootstrap_topics_filter\u001b[39;49m\u001b[38;5;124;43m'\u001b[39;49m\u001b[43m]\u001b[49m\u001b[43m)\u001b[49m\u001b[43m)\u001b[49m\n\u001b[1;32m    910\u001b[0m     \u001b[38;5;28;01mif\u001b[39;00m version \u001b[38;5;241m>\u001b[39m\u001b[38;5;241m=\u001b[39m (\u001b[38;5;241m0\u001b[39m, \u001b[38;5;241m10\u001b[39m, \u001b[38;5;241m0\u001b[39m):\n\u001b[1;32m    911\u001b[0m         \u001b[38;5;66;03m# cache the api versions map if it's available (starting\u001b[39;00m\n\u001b[1;32m    912\u001b[0m         \u001b[38;5;66;03m# in 0.10 cluster version)\u001b[39;00m\n\u001b[1;32m    913\u001b[0m         \u001b[38;5;28mself\u001b[39m\u001b[38;5;241m.\u001b[39m_api_versions \u001b[38;5;241m=\u001b[39m conn\u001b[38;5;241m.\u001b[39mget_api_versions()\n",
      "File \u001b[0;32m/opt/homebrew/lib/python3.10/site-packages/kafka/conn.py:1240\u001b[0m, in \u001b[0;36mBrokerConnection.check_version\u001b[0;34m(self, timeout, strict, topics)\u001b[0m\n\u001b[1;32m   1238\u001b[0m \u001b[38;5;28;01mif\u001b[39;00m \u001b[38;5;129;01mnot\u001b[39;00m \u001b[38;5;28mself\u001b[39m\u001b[38;5;241m.\u001b[39mconnect_blocking(timeout_at \u001b[38;5;241m-\u001b[39m time\u001b[38;5;241m.\u001b[39mtime()):\n\u001b[1;32m   1239\u001b[0m     reset_override_configs()\n\u001b[0;32m-> 1240\u001b[0m     \u001b[38;5;28;01mraise\u001b[39;00m Errors\u001b[38;5;241m.\u001b[39mNodeNotReadyError()\n\u001b[1;32m   1241\u001b[0m f \u001b[38;5;241m=\u001b[39m \u001b[38;5;28mself\u001b[39m\u001b[38;5;241m.\u001b[39msend(request)\n\u001b[1;32m   1242\u001b[0m \u001b[38;5;66;03m# HACK: sleeping to wait for socket to send bytes\u001b[39;00m\n",
      "\u001b[0;31mNodeNotReadyError\u001b[0m: NodeNotReadyError"
     ]
    }
   ],
   "source": [
    "from kafka import KafkaAdminClient\n",
    "\n",
    "kafka_admin_client_config = {\n",
    "    \"bootstrap_servers\": \"localhost:9092\",\n",
    "    \"client_id\": \"dev\",\n",
    "}\n",
    "\n",
    "admin = KafkaAdminClient(**kafka_admin_client_config)\n",
    "kafka_topics = admin._client.cluster.topics()"
   ]
  }
 ],
 "metadata": {
  "kernelspec": {
   "display_name": "Python 3",
   "language": "python",
   "name": "python3"
  },
  "language_info": {
   "codemirror_mode": {
    "name": "ipython",
    "version": 3
   },
   "file_extension": ".py",
   "mimetype": "text/x-python",
   "name": "python",
   "nbconvert_exporter": "python",
   "pygments_lexer": "ipython3",
   "version": "3.10.14"
  }
 },
 "nbformat": 4,
 "nbformat_minor": 2
}
